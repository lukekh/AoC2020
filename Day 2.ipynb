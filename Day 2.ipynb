{
 "cells": [
  {
   "cell_type": "markdown",
   "metadata": {},
   "source": [
    "# Advent of Code\n",
    "## Day 2: Password Philosophy\n",
    "### Part One\n",
    "\n",
    "\n",
    "Your flight departs in a few days from the coastal airport; the easiest way down to the coast from here is via toboggan.\n",
    "\n",
    "The shopkeeper at the North Pole Toboggan Rental Shop is having a bad day. \"Something's wrong with our computers; we can't log in!\" You ask if you can take a look.\n",
    "\n",
    "Their password database seems to be a little corrupted: some of the passwords wouldn't have been allowed by the Official Toboggan Corporate Policy that was in effect when they were chosen.\n",
    "\n",
    "To try to debug the problem, they have created a list (your puzzle input) of passwords (according to the corrupted database) and the corporate policy when that password was set.\n",
    "\n",
    "For example, suppose you have the following list:\n",
    "\n",
    ">```\n",
    "1-3 a: abcde\n",
    "1-3 b: cdefg\n",
    "2-9 c: ccccccccc\n",
    ">```\n",
    "\n",
    "Each line gives the password policy and then the password. The password policy indicates the lowest and highest number of times a given letter must appear for the password to be valid. For example, 1-3 a means that the password must contain a at least 1 time and at most 3 times.\n",
    "\n",
    "In the above example, 2 passwords are valid. The middle password, cdefg, is not; it contains no instances of b, but needs at least 1. The first and third passwords are valid: they contain one a or nine c, both within the limits of their respective policies.\n",
    "\n",
    "How many passwords are valid according to their policies?\n",
    "\n",
    "---"
   ]
  },
  {
   "cell_type": "code",
   "execution_count": 1,
   "metadata": {},
   "outputs": [],
   "source": [
    "# Read in the inputs as (policy, password) tuples and clean newline characters\n",
    "inputs = [tuple( i[:-1].split(': ') ) if i[-1] == '\\n' else tuple( i.split(': ') ) for i in open(\"Day2_input.txt\").readlines()]"
   ]
  },
  {
   "cell_type": "code",
   "execution_count": 2,
   "metadata": {},
   "outputs": [],
   "source": [
    "# Create a function that determines the legality of a password given a policy\n",
    "def legal(policy, password):\n",
    "    \"\"\"\n",
    "    This function determines the legality of a password given a policy.\n",
    "    \n",
    "    A policy of the form 'n-m c' indicates that the character c appears \n",
    "    between n and m (inclusive) times.\n",
    "    \n",
    "    :param policy: str, the policy to apply\n",
    "    :param password: str, the password to check\n",
    "    :return: bool, whether the password passes the policy\n",
    "    \"\"\"\n",
    "    limits, letter = policy.split(\" \")\n",
    "    min_occurences, max_occurences = limits.split(\"-\")\n",
    "    \n",
    "    occurences = sum([character == letter for character in password])\n",
    "    \n",
    "    return int(min_occurences) <= occurences <= int(max_occurences)\n",
    "\n",
    "# Create function that utilises the legal function to solve the first part of the problem\n",
    "def solution(lines):\n",
    "    \"\"\"\n",
    "    This function solves the first part of Day 2.\n",
    "    \n",
    "    :param lines: list, each line of this list should be a (policy, password) tuple\n",
    "    :return: int, the number of legal passwords in the input\n",
    "    \"\"\"\n",
    "    return sum([legal(*line) for line in lines])"
   ]
  },
  {
   "cell_type": "code",
   "execution_count": 3,
   "metadata": {},
   "outputs": [
    {
     "data": {
      "text/plain": [
       "586"
      ]
     },
     "execution_count": 3,
     "metadata": {},
     "output_type": "execute_result"
    }
   ],
   "source": [
    "# And the solution is...\n",
    "solution(inputs)"
   ]
  },
  {
   "cell_type": "markdown",
   "metadata": {},
   "source": [
    "### Part Two\n",
    "\n",
    "\n",
    "While it appears you validated the passwords correctly, they don't seem to be what the Official Toboggan Corporate Authentication System is expecting.\n",
    "\n",
    "The shopkeeper suddenly realizes that he just accidentally explained the password policy rules from his old job at the sled rental place down the street! The Official Toboggan Corporate Policy actually works a little differently.\n",
    "\n",
    "Each policy actually describes two positions in the password, where 1 means the first character, 2 means the second character, and so on. (Be careful; Toboggan Corporate Policies have no concept of \"index zero\"!) Exactly one of these positions must contain the given letter. Other occurrences of the letter are irrelevant for the purposes of policy enforcement.\n",
    "\n",
    "Given the same example list from above:\n",
    "\n",
    ">```\n",
    "1-3 a: abcde is valid: position 1 contains a and position 3 does not.\n",
    "1-3 b: cdefg is invalid: neither position 1 nor position 3 contains b.\n",
    "2-9 c: ccccccccc is invalid: both position 2 and position 9 contain c.\n",
    ">```\n",
    "\n",
    "How many passwords are valid according to the new interpretation of the policies?\n",
    "\n",
    "---"
   ]
  },
  {
   "cell_type": "code",
   "execution_count": 4,
   "metadata": {},
   "outputs": [],
   "source": [
    "# Create a function that determines the legality of a password given a policy\n",
    "def legal2(policy, password):\n",
    "    \"\"\"\n",
    "    This function determines the legality of a password given a policy.\n",
    "    \n",
    "    A policy of the form 'n-m c' indicates that the character c appears \n",
    "    exactly once in the nth or mth position of the password, where the first\n",
    "    character is in position 1 and so on.\n",
    "    \n",
    "    :param policy: str, the policy to apply\n",
    "    :param password: str, the password to check\n",
    "    :return: bool, whether the password passes the policy\n",
    "    \"\"\"\n",
    "    limits, letter = policy.split(\" \")\n",
    "    n_index, m_index = limits.split(\"-\")\n",
    "    \n",
    "    # Use XOR (^) to evaluate whether or not the password is conformant\n",
    "    # Note: Need to shift index -1 since python starts counting at 0\n",
    "    return (password[int(n_index)-1] == letter) ^ (password[int(m_index)-1] == letter)\n",
    "\n",
    "# Create function that utilises the legal function to solve the first part of the problem\n",
    "def solution2(lines):\n",
    "    \"\"\"\n",
    "    This function solves the second part of Day 2.\n",
    "    \n",
    "    :param lines: list, each line of this list should be a (policy, password) tuple\n",
    "    :return: int, the number of legal passwords in the input\n",
    "    \"\"\"\n",
    "    return sum([legal2(*line) for line in lines])"
   ]
  },
  {
   "cell_type": "code",
   "execution_count": 5,
   "metadata": {},
   "outputs": [
    {
     "data": {
      "text/plain": [
       "352"
      ]
     },
     "execution_count": 5,
     "metadata": {},
     "output_type": "execute_result"
    }
   ],
   "source": [
    "# And the solution is...\n",
    "solution2(inputs)"
   ]
  },
  {
   "cell_type": "markdown",
   "metadata": {},
   "source": [
    "---"
   ]
  }
 ],
 "metadata": {
  "kernelspec": {
   "display_name": "Python 3",
   "language": "python",
   "name": "python3"
  },
  "language_info": {
   "codemirror_mode": {
    "name": "ipython",
    "version": 3
   },
   "file_extension": ".py",
   "mimetype": "text/x-python",
   "name": "python",
   "nbconvert_exporter": "python",
   "pygments_lexer": "ipython3",
   "version": "3.7.3"
  }
 },
 "nbformat": 4,
 "nbformat_minor": 4
}
