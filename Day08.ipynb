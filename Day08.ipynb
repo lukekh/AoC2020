{
 "cells": [
  {
   "cell_type": "markdown",
   "metadata": {},
   "source": [
    "# Advent of Code\n",
    "## Day 8: \n",
    "### Part One\n",
    "\n",
    "\n",
    "\n",
    "* acc increases or decreases a single global value called the accumulator by the value given in the argument. For example, acc +7 would increase the accumulator by 7. The accumulator starts at 0. After an acc instruction, the instruction immediately below it is executed next.\n",
    "* jmp jumps to a new instruction relative to itself. The next instruction to execute is found using the argument as an offset from the jmp instruction; for example, jmp +2 would skip the next instruction, jmp +1 would continue to the instruction immediately below it, and jmp -20 would cause the instruction 20 lines above to be executed next.\n",
    "* nop stands for No OPeration - it does nothing. The instruction immediately below it is executed next.\n",
    "\n",
    "---"
   ]
  },
  {
   "cell_type": "code",
   "execution_count": 1,
   "metadata": {},
   "outputs": [],
   "source": [
    "# Read in the inputs\n",
    "# Read them in as an (operation, value) pair\n",
    "inputs = [tuple(i[:-1].split(' ')) for i in open(\"Day08_input.txt\").readlines()]\n",
    "\n",
    "# Clean the inputs so that each value is an integer\n",
    "for i, (instruction, val) in enumerate(inputs):\n",
    "    inputs[i] = (instruction, int(val))"
   ]
  },
  {
   "cell_type": "code",
   "execution_count": 2,
   "metadata": {},
   "outputs": [
    {
     "name": "stdout",
     "output_type": "stream",
     "text": [
      "Program will repeat on line 178 with accumulator value 1614\n"
     ]
    }
   ],
   "source": [
    "lines_executed = {len(inputs)}\n",
    "acc = 0\n",
    "line_counter = 0\n",
    "\n",
    "while line_counter not in lines_executed:\n",
    "    lines_executed |= {line_counter}\n",
    "    instruction, val = inputs[line_counter]\n",
    "    \n",
    "    if instruction == 'acc':\n",
    "        acc += val\n",
    "        line_counter += 1\n",
    "    elif instruction == 'jmp':\n",
    "        line_counter += val\n",
    "    elif instruction == 'nop':\n",
    "        line_counter += 1\n",
    "    \n",
    "    \n",
    "\n",
    "print(f\"Program will repeat on line {line_counter} with accumulator value {acc}\")"
   ]
  },
  {
   "cell_type": "markdown",
   "metadata": {},
   "source": [
    "---\n",
    "\n",
    "### Part Two\n",
    "\n",
    "---"
   ]
  },
  {
   "cell_type": "code",
   "execution_count": 8,
   "metadata": {},
   "outputs": [
    {
     "name": "stdout",
     "output_type": "stream",
     "text": [
      "The program required a change to line 247\n",
      " - changing ('jmp', 209) to ('nop', 209) - \n",
      "which allowed the program to terminate with accumulator value 1260.\n"
     ]
    }
   ],
   "source": [
    "class InfiniteLoop(Exception):\n",
    "    pass\n",
    "\n",
    "def test_run(script):\n",
    "        \n",
    "    lines_executed = set()\n",
    "    acc = 0\n",
    "    line_counter = 0\n",
    "\n",
    "    while (line_counter not in lines_executed) and (line_counter < len(script)):\n",
    "        lines_executed |= {line_counter}\n",
    "        instruction, val = script[line_counter]\n",
    "\n",
    "        if instruction == 'acc':\n",
    "            acc += val\n",
    "            line_counter += 1\n",
    "        elif instruction == 'jmp':\n",
    "            line_counter += val\n",
    "        elif instruction == 'nop':\n",
    "            line_counter += 1\n",
    "    \n",
    "    if line_counter >= len(script):\n",
    "        return acc\n",
    "    else:\n",
    "        raise InfiniteLoop(\"This script contains an infinite loop\")\n",
    "\n",
    "        \n",
    "acc = None\n",
    "changed_line = None\n",
    "original_input = None\n",
    "modified_input = None\n",
    "\n",
    "for i, line in enumerate(inputs):\n",
    "    \n",
    "    modified_inputs = inputs.copy()\n",
    "    instruction, val = line\n",
    "    \n",
    "    \n",
    "    if instruction == 'jmp':\n",
    "        modified_inputs[i] = ('nop', val)\n",
    "        try:\n",
    "            acc = test_run(modified_inputs)\n",
    "        except InfiniteLoop:\n",
    "            pass\n",
    "    elif instruction == 'nop':\n",
    "        modified_inputs[i] = ('jmp', val)\n",
    "        try:\n",
    "            acc = test_run(modified_inputs)\n",
    "        except InfiniteLoop:\n",
    "            pass\n",
    "    else:\n",
    "        pass\n",
    "    \n",
    "    if acc is not None:\n",
    "        changed_line = i\n",
    "        original_input = (instruction,val)\n",
    "        modified_input = modified_inputs[changed_line]\n",
    "        break\n",
    "    \n",
    "print(\n",
    "    f\"The program required a change to line {changed_line}\\n - changing {original_input} to {modified_input} - \\n\"\n",
    "    f\"which allowed the program to terminate with accumulator value {acc}.\"\n",
    ")"
   ]
  },
  {
   "cell_type": "markdown",
   "metadata": {},
   "source": [
    "---"
   ]
  }
 ],
 "metadata": {
  "kernelspec": {
   "display_name": "Python 3",
   "language": "python",
   "name": "python3"
  },
  "language_info": {
   "codemirror_mode": {
    "name": "ipython",
    "version": 3
   },
   "file_extension": ".py",
   "mimetype": "text/x-python",
   "name": "python",
   "nbconvert_exporter": "python",
   "pygments_lexer": "ipython3",
   "version": "3.7.3"
  }
 },
 "nbformat": 4,
 "nbformat_minor": 4
}
