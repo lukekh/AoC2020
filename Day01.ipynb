{
 "cells": [
  {
   "cell_type": "markdown",
   "metadata": {},
   "source": [
    "# Advent of Code - Day 1\n",
    "## Report Repair\n",
    "\n",
    "### Part One\n",
    "\n",
    "\n",
    "After saving Christmas five years in a row, you've decided to take a vacation at a nice resort on a tropical island. Surely, Christmas will go on without you.\n",
    "\n",
    "The tropical island has its own currency and is entirely cash-only. The gold coins used there have a little picture of a starfish; the locals just call them stars. None of the currency exchanges seem to have heard of them, but somehow, you'll need to find fifty of these coins by the time you arrive so you can pay the deposit on your room.\n",
    "\n",
    "To save your vacation, you need to get all fifty stars by December 25th.\n",
    "\n",
    "Collect stars by solving puzzles. Two puzzles will be made available on each day in the Advent calendar; the second puzzle is unlocked when you complete the first. Each puzzle grants one star. Good luck!\n",
    "\n",
    "Before you leave, the Elves in accounting just need you to fix your expense report (your puzzle input); apparently, something isn't quite adding up.\n",
    "\n",
    "Specifically, they need you to find the two entries that sum to 2020 and then multiply those two numbers together.\n",
    "\n",
    "For example, suppose your expense report contained the following:\n",
    "\n",
    "\n",
    ">```\n",
    "1721\n",
    "979\n",
    "366\n",
    "299\n",
    "675\n",
    "1456\n",
    ">```\n",
    "\n",
    "\n",
    "In this list, the two entries that sum to 2020 are 1721 and 299. Multiplying them together produces 1721 * 299 = 514579, so the correct answer is 514579.\n",
    "\n",
    "Of course, your expense report is much larger. Find the two entries that sum to 2020; what do you get if you multiply them together?\n",
    "\n",
    "---"
   ]
  },
  {
   "cell_type": "code",
   "execution_count": 1,
   "metadata": {},
   "outputs": [],
   "source": [
    "# Read in the inputs\n",
    "inputs = [int(i) for i in open(\"Day01_input.txt\").readlines()]"
   ]
  },
  {
   "cell_type": "code",
   "execution_count": 2,
   "metadata": {},
   "outputs": [],
   "source": [
    "# A quick and simple solution\n",
    "def expense_report(entries, goal):\n",
    "    \"\"\"\n",
    "    This function checks each entry on the list of entries against all entries below it to see\n",
    "    if they sum to goal.\n",
    "    \"\"\"\n",
    "    for i, entry1 in enumerate(entries):\n",
    "        for entry2 in entries[i:]:\n",
    "                if entry1 + entry2 == goal:\n",
    "                    return entry1, entry2\n",
    "    raise Exception(f\"None of these entries sum to {goal}.\")\n",
    "\n",
    "# This performs the final bit of arithmetic to sove the problem\n",
    "def solution(entries, goal):\n",
    "    \"\"\"\n",
    "    This function solves the first part of Day 1.\n",
    "    \"\"\"\n",
    "    a, b = expense_report(entries, goal)\n",
    "    return a * b"
   ]
  },
  {
   "cell_type": "code",
   "execution_count": 3,
   "metadata": {},
   "outputs": [
    {
     "data": {
      "text/plain": [
       "1020084"
      ]
     },
     "execution_count": 3,
     "metadata": {},
     "output_type": "execute_result"
    }
   ],
   "source": [
    "# And the solution is...\n",
    "solution(inputs, 2020)"
   ]
  },
  {
   "cell_type": "markdown",
   "metadata": {},
   "source": [
    "---\n",
    "### Part Two\n",
    "The Elves in accounting are thankful for your help; one of them even offers you a starfish coin they had left over from a past vacation. They offer you a second one if you can find three numbers in your expense report that meet the same criteria.\n",
    "\n",
    "Using the above example again, the three entries that sum to 2020 are 979, 366, and 675. Multiplying them together produces the answer, 241861950.\n",
    "\n",
    "In your expense report, what is the product of the three entries that sum to 2020?\n",
    "\n",
    "---"
   ]
  },
  {
   "cell_type": "code",
   "execution_count": 4,
   "metadata": {},
   "outputs": [],
   "source": [
    "# This will be handy so we only fail a try with this specific error\n",
    "class ExpenseError(Exception):\n",
    "    pass\n",
    "\n",
    "# This function will perform better than our naive attempt in part one\n",
    "# It uses recursion though so... could probably still be better\n",
    "def general_expense_report(entries, goal, n):\n",
    "    \"\"\"\n",
    "    This solution works more generally using recursion.\n",
    "    \n",
    "    :param entries: list, the list of inputs\n",
    "    :param goal: int, the target sum\n",
    "    :param n: int, the number of entries to search for that sum to the goal\n",
    "    :return: tuple, the list of n integers on the list that sum to the goal\n",
    "    \"\"\"\n",
    "    for i, entry in enumerate(entries):\n",
    "        if n == 1:\n",
    "            if goal in entries:\n",
    "                return (goal,)\n",
    "            else:\n",
    "                raise ExpenseError(f\"None of these entries sum to {goal}.\")\n",
    "        else:\n",
    "            try:\n",
    "                solution = general_expense_report(entries[i:], goal-entry, n-1)\n",
    "                # Concatenate outputs\n",
    "                return (entry,) + solution\n",
    "            except ExpenseError:\n",
    "                pass\n",
    "    raise ExpenseError(f\"None of these entries sum to {goal}.\")\n",
    "\n",
    "# The solution to the second part of the problem using the new function general_expense_report\n",
    "def solution2(entries, goal):\n",
    "    \"\"\"\n",
    "    This function solves the second part of Day 1.\n",
    "    \"\"\"\n",
    "    a, b, c = general_expense_report(entries, 2020, 3)\n",
    "    return a * b * c"
   ]
  },
  {
   "cell_type": "code",
   "execution_count": 5,
   "metadata": {},
   "outputs": [
    {
     "data": {
      "text/plain": [
       "295086480"
      ]
     },
     "execution_count": 5,
     "metadata": {},
     "output_type": "execute_result"
    }
   ],
   "source": [
    "# Note we are using the same inputs from part 1\n",
    "solution2(inputs, 2020)"
   ]
  },
  {
   "cell_type": "markdown",
   "metadata": {},
   "source": [
    "---"
   ]
  }
 ],
 "metadata": {
  "kernelspec": {
   "display_name": "Python 3",
   "language": "python",
   "name": "python3"
  },
  "language_info": {
   "codemirror_mode": {
    "name": "ipython",
    "version": 3
   },
   "file_extension": ".py",
   "mimetype": "text/x-python",
   "name": "python",
   "nbconvert_exporter": "python",
   "pygments_lexer": "ipython3",
   "version": "3.7.8"
  }
 },
 "nbformat": 4,
 "nbformat_minor": 4
}
