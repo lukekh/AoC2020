{
 "cells": [
  {
   "cell_type": "markdown",
   "metadata": {},
   "source": [
    "# Advent of Code\n",
    "## Day 7: Handy Haversacks\n",
    "### Part One\n",
    "\n",
    "You land at the regional airport in time for your next flight. In fact, it looks like you'll even have time to grab some food: all flights are currently delayed due to issues in luggage processing.\n",
    "\n",
    "Due to recent aviation regulations, many rules (your puzzle input) are being enforced about bags and their contents; bags must be color-coded and must contain specific quantities of other color-coded bags. Apparently, nobody responsible for these regulations considered how long they would take to enforce!\n",
    "\n",
    "For example, consider the following rules:\n",
    "\n",
    ">```\n",
    "light red bags contain 1 bright white bag, 2 muted yellow bags.\n",
    "dark orange bags contain 3 bright white bags, 4 muted yellow bags.\n",
    "bright white bags contain 1 shiny gold bag.\n",
    "muted yellow bags contain 2 shiny gold bags, 9 faded blue bags.\n",
    "shiny gold bags contain 1 dark olive bag, 2 vibrant plum bags.\n",
    "dark olive bags contain 3 faded blue bags, 4 dotted black bags.\n",
    "vibrant plum bags contain 5 faded blue bags, 6 dotted black bags.\n",
    "faded blue bags contain no other bags.\n",
    "dotted black bags contain no other bags.\n",
    ">```\n",
    "\n",
    "These rules specify the required contents for 9 bag types. In this example, every `faded blue` bag is empty, every `vibrant plum` bag contains 11 bags (5 `faded blue` and 6 `dotted black`), and so on.\n",
    "\n",
    "You have a `shiny gold` bag. If you wanted to carry it in at least one other bag, how many different bag colors would be valid for the outermost bag? (In other words: how many colors can, eventually, contain at least one shiny gold bag?)\n",
    "\n",
    "In the above rules, the following options would be available to you:\n",
    "\n",
    "* A `bright white` bag, which can hold your `shiny gold` bag directly.\n",
    "* A `muted yellow` bag, which can hold your `shiny gold` bag directly, plus some other bags.\n",
    "* A `dark orange` bag, which can hold `bright white` and `muted yellow` bags, either of which could then hold your `shiny gold` bag.\n",
    "* A `light red` bag, which can hold `bright white` and `muted yellow` bags, either of which could then hold your `shiny gold` bag.\n",
    "\n",
    "So, in this example, the number of bag colors that can eventually contain at least one `shiny gold bag` is `4`.\n",
    "\n",
    "How many bag colors can eventually contain at least one `shiny gold` bag? (The list of rules is quite long; make sure you get all of it.)"
   ]
  },
  {
   "cell_type": "code",
   "execution_count": 1,
   "metadata": {},
   "outputs": [],
   "source": [
    "# Read in the inputs\n",
    "inputs = [i[:-1] for i in open(\"Day07_input.txt\").readlines()]"
   ]
  },
  {
   "cell_type": "code",
   "execution_count": 2,
   "metadata": {},
   "outputs": [],
   "source": [
    "# Let's collect all the different types of bags in a dictionary, \n",
    "# where it's value pair can be all the different types of bags it contains\n",
    "bag_dict = dict()\n",
    "\n",
    "# Now let's process it\n",
    "# First, run over each line of inputs\n",
    "for line in inputs:\n",
    "    # Each line looks like:\n",
    "    #     <adjective> <colour> bags contain <list of bags>\n",
    "    # So first split on contain\n",
    "    bag, contains = line.split(' contain ')\n",
    "    # The bag bit looks like:\n",
    "    #     <adjective> <colour> bags\n",
    "    # so we can split on spaces \n",
    "    bag_descriptor = tuple(bag.split(' bags')[0].split(' '))\n",
    "    \n",
    "    # Initialise the dictionary that describes what is contained by bag\n",
    "    contains_dict = dict()\n",
    "    # If contains is the 'no other bags.' string, then don't add anything to the dictionary\n",
    "    if contains == 'no other bags.':\n",
    "        pass\n",
    "    else:\n",
    "        # Otherwise, the string looks like:\n",
    "        #     <number> <adjective> <colour> bag, ...\n",
    "        # so first we can split on ', '\n",
    "        for item in contains.split(', '):\n",
    "            # then the first bit of the string is an integer, the rest dump into other as a list\n",
    "            number, *other = item.split(' ')\n",
    "            # Only the first two words in other are needed (the third should be the string 'bag' or 'bags.')\n",
    "            contains_dict[tuple(other[:2])] = int(number)\n",
    "    # Enter that dictionary under the key for the bag\n",
    "    bag_dict[bag_descriptor] = contains_dict"
   ]
  },
  {
   "cell_type": "code",
   "execution_count": 3,
   "metadata": {},
   "outputs": [],
   "source": [
    "def recursive_set_search(bag_dict, key, bag_set=None):\n",
    "    \"\"\"\n",
    "    Recursively search inside bags until you reach the bottom.\n",
    "    \n",
    "    Note: \n",
    "        * We know to stop searching when the size of bag_set doesn't grow any larger after searching inside the bags.\n",
    "        * The total at the end contains the original_bag, so we have to subtract one if we're not including it\n",
    "    :param bag_dict: dict, a dict where each key is a bag and each value is a dict describing which bags it contains\n",
    "    :param key: tuple, a bag key for bag_dict\n",
    "    :param bag_set: set, the set of bags that contain the original_bag (starts with only the original bag)\n",
    "    :return: int, the number of bags that contain the original_bag\n",
    "    \"\"\"\n",
    "    # Initialise by putting the key into the bag_set\n",
    "    if bag_set is None:\n",
    "        bag_set = {key}\n",
    "        \n",
    "    # Copy bag_set to avoid a RuntimeError\n",
    "    bag_set_copy = bag_set.copy()\n",
    "    \n",
    "    # For each bag in the bag_set\n",
    "    for bag in bag_set_copy:\n",
    "        # and each bag inside that bag\n",
    "        for outer_bag in bag_dict:\n",
    "            # if the outer bag contains the bag from bag_set\n",
    "            if bag in bag_dict[outer_bag]:\n",
    "                # append it to the set of bags that contain the original key\n",
    "                bag_set |= {outer_bag}\n",
    "    \n",
    "    # If bag_set hasn't gotten any bigger, there are no more bags that contain the original key\n",
    "    if len(bag_set_copy) == len(bag_set):\n",
    "        return len(bag_set)\n",
    "    # If bag_set has gotten bigger, we now need to loop through again to check if other bags contain the new bags\n",
    "    else:\n",
    "        return recursive_set_search(bag_dict, key, bag_set)"
   ]
  },
  {
   "cell_type": "code",
   "execution_count": 4,
   "metadata": {},
   "outputs": [
    {
     "name": "stdout",
     "output_type": "stream",
     "text": [
      "There are 332 bags that contain a shiny gold bag.\n"
     ]
    }
   ],
   "source": [
    "# Set the key\n",
    "key = ('shiny', 'gold')\n",
    "n = recursive_set_search(bag_dict, key)\n",
    "# We subtract off 1 because n includes the key\n",
    "print(f\"There are {n-1:,} bags that contain a {' '.join(key)} bag.\")"
   ]
  },
  {
   "cell_type": "markdown",
   "metadata": {},
   "source": [
    "---\n",
    "\n",
    "### Part Two\n",
    "\n",
    "It's getting pretty expensive to fly these days - not because of ticket prices, but because of the ridiculous number of bags you need to buy!\n",
    "\n",
    "Consider again your shiny gold bag and the rules from the above example:\n",
    "\n",
    "* `faded blue` bags contain `0` other bags.\n",
    "* `dotted black` bags contain `0` other bags.\n",
    "* `vibrant plum` bags contain `11` other bags: 5 `faded blue` bags and 6 `dotted black` bags.\n",
    "* `dark olive` bags contain `7` other bags: 3 `faded blue` bags and 4 `dotted black` bags.\n",
    "\n",
    "\n",
    "So, a single shiny gold bag must contain 1 `dark olive` bag (and the 7 bags within it) plus 2 `vibrant plum` bags (and the 11 bags within each of those): `1 + 1*7 + 2 + 2*11` = `32` bags!\n",
    "\n",
    "Of course, the actual rules have a small chance of going several levels deeper than this example; be sure to count all of the bags, even if the nesting becomes topologically impractical!\n",
    "\n",
    "Here's another example:\n",
    "\n",
    ">```\n",
    "shiny gold bags contain 2 dark red bags.\n",
    "dark red bags contain 2 dark orange bags.\n",
    "dark orange bags contain 2 dark yellow bags.\n",
    "dark yellow bags contain 2 dark green bags.\n",
    "dark green bags contain 2 dark blue bags.\n",
    "dark blue bags contain 2 dark violet bags.\n",
    "dark violet bags contain no other bags.\n",
    ">```\n",
    "\n",
    "In this example, a single shiny gold bag must contain 126 other bags.\n",
    "\n",
    "How many individual bags are required inside your single `shiny gold` bag?\n",
    "\n",
    "---"
   ]
  },
  {
   "cell_type": "code",
   "execution_count": 5,
   "metadata": {},
   "outputs": [],
   "source": [
    "def count_nested_bags(bag_dict, key):\n",
    "    \"\"\"\n",
    "    Count the total number of bags you're packing. Note this includes the outermost bag.\n",
    "    \n",
    "    :param bag_dict: dict, a dict where each key is a bag and each value is a dict describing which bags it contains\n",
    "    :param key: tuple, each key is a tuple containing the two descriptors (e.g. ('shiny', 'gold'))\n",
    "    :return: int, the total number of bags you're packing\n",
    "    \"\"\"\n",
    "    # Initialise total as 1 for the outer bag\n",
    "    total = 1\n",
    "    \n",
    "    # Sum the inner bags multiplied by how many there are\n",
    "    # Note we're calling this function recursively using each inner bag inside the outer bag\n",
    "    for bag in bag_dict[key]:\n",
    "        total += count_nested_bags(bag_dict, bag)*bag_dict[key][bag]\n",
    "    \n",
    "    # Return the total\n",
    "    return total"
   ]
  },
  {
   "cell_type": "code",
   "execution_count": 6,
   "metadata": {},
   "outputs": [
    {
     "name": "stdout",
     "output_type": "stream",
     "text": [
      "There are a total of 10,875 bags contained within the shiny gold bag\n"
     ]
    }
   ],
   "source": [
    "key = ('shiny', 'gold')\n",
    "total_bags = count_nested_bags(bag_dict, key)\n",
    "# We subtract 1 off because we don't want to count the outermost shiny gold bag\n",
    "print(f\"There are a total of {total_bags - 1:,} bags contained within the {' '.join(key)} bag\")"
   ]
  },
  {
   "cell_type": "markdown",
   "metadata": {},
   "source": [
    "---"
   ]
  }
 ],
 "metadata": {
  "kernelspec": {
   "display_name": "Python 3",
   "language": "python",
   "name": "python3"
  },
  "language_info": {
   "codemirror_mode": {
    "name": "ipython",
    "version": 3
   },
   "file_extension": ".py",
   "mimetype": "text/x-python",
   "name": "python",
   "nbconvert_exporter": "python",
   "pygments_lexer": "ipython3",
   "version": "3.7.3"
  }
 },
 "nbformat": 4,
 "nbformat_minor": 4
}
