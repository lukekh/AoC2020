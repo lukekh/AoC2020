{
 "cells": [
  {
   "cell_type": "markdown",
   "metadata": {},
   "source": [
    "# Advent of Code\n",
    "## Day 5: Binary Boarding\n",
    "### Part One\n",
    "\n",
    "You board your plane only to discover a new problem: you dropped your boarding pass! You aren't sure which seat is yours, and all of the flight attendants are busy with the flood of people that suddenly made it through passport control.\n",
    "\n",
    "You write a quick program to use your phone's camera to scan all of the nearby boarding passes (your puzzle input); perhaps you can find your seat through process of elimination.\n",
    "\n",
    "Instead of [zones or groups](https://www.youtube.com/watch?v=oAHbLRjF0vo), this airline uses binary space partitioning to seat people. A seat might be specified like `FBFBBFFRLR`, where `F` means \"front\", `B` means \"back\", `L` means \"left\", and `R` means \"right\".\n",
    "\n",
    "The first 7 characters will either be `F` or `B`; these specify exactly one of the 128 rows on the plane (numbered `0` through `127`). Each letter tells you which half of a region the given seat is in. Start with the whole list of rows; the first letter indicates whether the seat is in the front (`0` through `63`) or the back (`64` through `127`). The next letter indicates which half of that region the seat is in, and so on until you're left with exactly one row.\n",
    "\n",
    "For example, consider just the first seven characters of `FBFBBFFRLR`:\n",
    "* Start by considering the whole range, rows `0` through `127`.\n",
    "* `F` means to take the lower half, keeping rows `0` through `63`.\n",
    "* `B` means to take the upper half, keeping rows `32` through `63`.\n",
    "* `F` means to take the lower half, keeping rows `32` through `47`.\n",
    "* `B` means to take the upper half, keeping rows `40` through `47`.\n",
    "* `B` keeps rows `44` through `47`.\n",
    "* `F` keeps rows `44` through `45`.\n",
    "* The final `F` keeps the lower of the two, row `44`.\n",
    "\n",
    "The last three characters will be either `L` or `R`; these specify exactly one of the 8 columns of seats on the plane (numbered `0` through `7`). The same process as above proceeds again, this time with only three steps. `L` means to keep the lower half, while `R` means to keep the upper half.\n",
    "\n",
    "For example, consider just the last 3 characters of `FBFBBFFRLR`:\n",
    "* Start by considering the whole range, columns `0` through `7`.\n",
    "* `R` means to take the upper half, keeping columns `4` through `7`.\n",
    "* `L` means to take the lower half, keeping columns `4` through `5`.\n",
    "* The final `R` keeps the upper of the two, column `5`.\n",
    "\n",
    "So, decoding `FBFBBFFRLR` reveals that it is the seat at row `44`, column `5`.\n",
    "\n",
    "Every seat also has a unique seat ID: multiply the row by 8, then add the column. In this example, the seat has ID `44 * 8 + 5 = 357`.\n",
    "\n",
    "Here are some other boarding passes:\n",
    "\n",
    "* `BFFFBBFRRR`: row `70`, column `7`, seat ID `567`.\n",
    "* `FFFBBBFRRR`: row `14`, column `7`, seat ID `119`.\n",
    "* `BBFFBBFRLL`: row `102`, column `4`, seat ID `820`.\n",
    "\n",
    "As a sanity check, look through your list of boarding passes. What is the highest seat ID on a boarding pass?\n",
    "\n",
    "---"
   ]
  },
  {
   "cell_type": "code",
   "execution_count": 1,
   "metadata": {},
   "outputs": [],
   "source": [
    "# Read in the inputs\n",
    "inputs = [i[:-1] for i in open(\"Day05_input.txt\").readlines()]"
   ]
  },
  {
   "cell_type": "code",
   "execution_count": 2,
   "metadata": {},
   "outputs": [],
   "source": [
    "# Create a function that converts the airlines code system\n",
    "def binary_conversion(string, one, zero):\n",
    "    \"\"\"\n",
    "    Convert the airlines esoteric convention into a row/seat number.\n",
    "    \n",
    "    :param string: str, the code of Fs and Bs to indicate your row\n",
    "    :param one: str, the letter that indicates a 1 when converted to binary\n",
    "    :param zero: str, the letter that indicates a 0 when converted to binary\n",
    "    :return: int, the row number in conventional integer format\n",
    "    \"\"\"\n",
    "    conversion = string.replace(one, \"1\").replace(zero, \"0\")\n",
    "    return int(conversion, 2)\n",
    "\n",
    "\n",
    "# Create a function that uses the decoder above to then find the seat ID given the full string\n",
    "def seat_ID_conversion(seat_code, row_chars=7):\n",
    "    \"\"\"\n",
    "    Convert a full seat code into a unique seat ID.\n",
    "    \n",
    "    Note: I assume that the len(seat_code) - row_chars == the number of characters used to identify the column\n",
    "    \n",
    "    :param seat_code: str, the code that identifies a seat using the (F,B,L,R) system\n",
    "    :param row_chars: int, the number of characters that identify the seat row\n",
    "    :return: int, the unique seat id\n",
    "    \"\"\"\n",
    "    # Find the row and column\n",
    "    row = binary_conversion(seat_code[:row_chars], \"B\", \"F\")\n",
    "    col = binary_conversion(seat_code[row_chars:], \"R\", \"L\")\n",
    "    \n",
    "    # Perform arithmetic to find seat id\n",
    "    # I have assumed a formula from the one provided which generalises the problem\n",
    "    return row * (row_chars + 1) + col\n",
    "\n",
    "\n",
    "# Or this clever alternative\n",
    "def seat_ID_conversion_alt(seat_code):\n",
    "    \"\"\"\n",
    "    An alternate way to convert a full seat code into a unique seat ID.\n",
    "    \n",
    "    :param seat_code: str, the code that identifies a seat using the (F,B,L,R) system\n",
    "    :return: int, the unique seat id\n",
    "    \"\"\"\n",
    "    # Convert all Rs to Bs and all Ls to Fs\n",
    "    altered_code = seat_code.replace(\"R\", \"B\").replace(\"L\", \"F\")\n",
    "    \n",
    "    # Find integer after interpreting as a binary number\n",
    "    return binary_conversion(altered_code, \"B\", \"F\")"
   ]
  },
  {
   "cell_type": "code",
   "execution_count": 3,
   "metadata": {},
   "outputs": [
    {
     "name": "stdout",
     "output_type": "stream",
     "text": [
      "The highest seat ID on the observed boarding passes is 994.\n"
     ]
    }
   ],
   "source": [
    "# And the solution is...\n",
    "seat_IDs = map(seat_ID_conversion_alt, inputs)\n",
    "print(f\"The highest seat ID on the observed boarding passes is {max(seat_IDs)}.\")"
   ]
  },
  {
   "cell_type": "markdown",
   "metadata": {},
   "source": [
    "---\n",
    "\n",
    "### Part Two\n",
    "\n",
    "Ding! The \"fasten seat belt\" signs have turned on. Time to find your seat.\n",
    "\n",
    "It's a completely full flight, so your seat should be the only missing boarding pass in your list. However, there's a catch: some of the seats at the very front and back of the plane don't exist on this aircraft, so they'll be missing from your list as well.\n",
    "\n",
    "Your seat wasn't at the very front or back, though; the seats with IDs +1 and -1 from yours will be in your list.\n",
    "\n",
    "What is the ID of your seat?\n",
    "\n",
    "---"
   ]
  },
  {
   "cell_type": "code",
   "execution_count": 4,
   "metadata": {},
   "outputs": [
    {
     "name": "stdout",
     "output_type": "stream",
     "text": [
      "It looks like I'm sitting in the seat with ID 741.\n"
     ]
    }
   ],
   "source": [
    "# Let's store the seat IDs as a set to help us\n",
    "seat_IDs = set( map(seat_ID_conversion, inputs) )\n",
    "\n",
    "# Find the missing seat number\n",
    "missing_seat_numbers = ( set( range(min(seat_IDs), max(seat_IDs)) ) - set( seat_IDs ) )\n",
    "\n",
    "if len(missing_seat_numbers) == 1:\n",
    "    missing_seat_number = missing_seat_numbers.pop()\n",
    "    print(f\"It looks like I'm sitting in the seat with ID {missing_seat_number}.\")\n",
    "else:\n",
    "    raise Exception(\"there are two many seats on this list to deduce which seat is yours\")"
   ]
  },
  {
   "cell_type": "markdown",
   "metadata": {},
   "source": [
    "---"
   ]
  }
 ],
 "metadata": {
  "kernelspec": {
   "display_name": "Python 3",
   "language": "python",
   "name": "python3"
  },
  "language_info": {
   "codemirror_mode": {
    "name": "ipython",
    "version": 3
   },
   "file_extension": ".py",
   "mimetype": "text/x-python",
   "name": "python",
   "nbconvert_exporter": "python",
   "pygments_lexer": "ipython3",
   "version": "3.7.8"
  }
 },
 "nbformat": 4,
 "nbformat_minor": 4
}
