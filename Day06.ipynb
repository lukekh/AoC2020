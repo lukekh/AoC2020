{
 "cells": [
  {
   "cell_type": "markdown",
   "metadata": {},
   "source": [
    "# Advent of Code\n",
    "## Day 6: Custom Customs\n",
    "### Part One\n",
    "\n",
    "As your flight approaches the regional airport where you'll switch to a much larger plane, customs declaration forms are distributed to the passengers.\n",
    "\n",
    "The form asks a series of 26 yes-or-no questions marked `a` through `z`. All you need to do is identify the questions for which anyone in your group answers \"yes\". Since your group is just you, this doesn't take very long.\n",
    "\n",
    "However, the person sitting next to you seems to be experiencing a language barrier and asks if you can help. For each of the people in their group, you write down the questions for which they answer \"yes\", one per line. For example:\n",
    "\n",
    ">```\n",
    "abcx\n",
    "abcy\n",
    "abcz\n",
    ">```\n",
    "\n",
    "In this group, there are 6 questions to which anyone answered \"yes\": `a`, `b`, `c`, `x`, `y`, and `z`. (Duplicate answers to the same question don't count extra; each question counts at most once.)\n",
    "\n",
    "Another group asks for your help, then another, and eventually you've collected answers from every group on the plane (your puzzle input). Each group's answers are separated by a blank line, and within each group, each person's answers are on a single line. For example:\n",
    "\n",
    ">```\n",
    "abc\n",
    "⠀\n",
    "a\n",
    "b\n",
    "c\n",
    "⠀\n",
    "ab\n",
    "ac\n",
    "⠀\n",
    "a\n",
    "a\n",
    "a\n",
    "a\n",
    "⠀\n",
    "b\n",
    ">```\n",
    "\n",
    "This list represents answers from five groups:\n",
    "\n",
    "* The first group contains one person who answered \"yes\" to 3 questions: `a`, `b`, and `c`.\n",
    "* The second group contains three people; combined, they answered \"yes\" to 3 questions: `a`, `b`, and `c`.\n",
    "* The third group contains two people; combined, they answered \"yes\" to 3 questions: `a`, `b`, and `c`.\n",
    "* The fourth group contains four people; combined, they answered \"yes\" to only 1 question, `a`.\n",
    "* The last group contains one person who answered \"yes\" to only 1 question, `b`.\n",
    "\n",
    "In this example, the sum of these counts is `3 + 3 + 3 + 1 + 1` = `11`.\n",
    "\n",
    "For each group, count the number of questions to which anyone answered \"yes\". What is the sum of those counts?\n",
    "\n",
    "---"
   ]
  },
  {
   "cell_type": "code",
   "execution_count": 86,
   "metadata": {},
   "outputs": [],
   "source": [
    "# Read in the inputs\n",
    "# I want to treat a blank line (splitting on '\\n\\n') as a new group, and then each line within that group as a set\n",
    "inputs = [[set(individual) for individual in group.split('\\n')] for group in open(\"Day06_input.txt\").read()[:-1].split('\\n\\n')]"
   ]
  },
  {
   "cell_type": "code",
   "execution_count": 87,
   "metadata": {},
   "outputs": [],
   "source": [
    "# Define a function that will take the union over a list of sets\n",
    "def union_iterable(sets):\n",
    "    \"\"\"\n",
    "    This function will take an iterable object of sets and union them together.\n",
    "    \n",
    "    :param sets: an iterable object containing sets in each iteration\n",
    "    :return: the union of all of the sets in the iterable input\n",
    "    \"\"\"\n",
    "    # Initialise an empty set\n",
    "    union = set()\n",
    "    \n",
    "    # Iterate over sets and take the union with the previous sets in the list\n",
    "    for s in sets:\n",
    "        union |= s\n",
    "    \n",
    "    return union"
   ]
  },
  {
   "cell_type": "code",
   "execution_count": 88,
   "metadata": {},
   "outputs": [
    {
     "data": {
      "text/plain": [
       "6612"
      ]
     },
     "execution_count": 88,
     "metadata": {},
     "output_type": "execute_result"
    }
   ],
   "source": [
    "# Each element of inputs represents a list of sets\n",
    "# Each of those sets just represents the \"yes\" answered questions\n",
    "# So we just need to take the union of all the answers and find the length of the resultant set for each group,\n",
    "# then sum the results...\n",
    "sum( [len(union_iterable(group)) for group in inputs] )"
   ]
  },
  {
   "cell_type": "markdown",
   "metadata": {},
   "source": [
    "---\n",
    "\n",
    "### Part Two\n",
    "\n",
    "As you finish the last group's customs declaration, you notice that you misread one word in the instructions:\n",
    "\n",
    "You don't need to identify the questions to which anyone answered \"yes\"; you need to identify the questions to which everyone answered \"yes\"!\n",
    "\n",
    "Using the same example as above:\n",
    "\n",
    ">```\n",
    "abc\n",
    "⠀\n",
    "a\n",
    "b\n",
    "c\n",
    "⠀\n",
    "ab\n",
    "ac\n",
    "⠀\n",
    "a\n",
    "a\n",
    "a\n",
    "a\n",
    "⠀\n",
    "b\n",
    ">```\n",
    "\n",
    "This list represents answers from five groups:\n",
    "\n",
    "* In the first group, everyone (all 1 person) answered \"yes\" to 3 questions: `a`, `b`, and `c`.\n",
    "* In the second group, there is no question to which everyone answered \"yes\".\n",
    "* In the third group, everyone answered yes to only 1 question, `a`. Since some people did not answer \"yes\" to `b` or `c`, they don't count.\n",
    "* In the fourth group, everyone answered yes to only 1 question, `a`.\n",
    "* In the fifth group, everyone (all 1 person) answered \"yes\" to 1 question, `b`.\n",
    "\n",
    "In this example, the sum of these counts is `3 + 0 + 1 + 1 + 1` = `6`.\n",
    "\n",
    "For each group, count the number of questions to which everyone answered \"yes\". What is the sum of those counts?\n",
    "\n",
    "---"
   ]
  },
  {
   "cell_type": "code",
   "execution_count": 89,
   "metadata": {},
   "outputs": [],
   "source": [
    "# Define a function that will take the intersection over a list of sets\n",
    "def intersection_iterable(sets):\n",
    "    \"\"\"\n",
    "    This function will take an iterable object of sets and intersect them together.\n",
    "    \n",
    "    :param sets: an iterable object containing sets in each iteration\n",
    "    :return: the intersection of all of the sets in the iterable input\n",
    "    \"\"\"\n",
    "    # Initialise with a copy of the first set in the list\n",
    "    # We need to copy so that we don't \n",
    "    intersection = sets[0].copy()\n",
    "    \n",
    "    # Iterate over sets and take the union with the previous sets in the list\n",
    "    for s in sets[1:]:\n",
    "        intersection &= s\n",
    "    \n",
    "    return intersection"
   ]
  },
  {
   "cell_type": "code",
   "execution_count": 90,
   "metadata": {},
   "outputs": [
    {
     "data": {
      "text/plain": [
       "3268"
      ]
     },
     "execution_count": 90,
     "metadata": {},
     "output_type": "execute_result"
    }
   ],
   "source": [
    "# We're doing the same thing as the previous part but taking the intersection instead...\n",
    "sum( [len(intersection_iterable(group)) for group in inputs] )"
   ]
  },
  {
   "cell_type": "markdown",
   "metadata": {},
   "source": [
    "---"
   ]
  }
 ],
 "metadata": {
  "kernelspec": {
   "display_name": "Python 3",
   "language": "python",
   "name": "python3"
  },
  "language_info": {
   "codemirror_mode": {
    "name": "ipython",
    "version": 3
   },
   "file_extension": ".py",
   "mimetype": "text/x-python",
   "name": "python",
   "nbconvert_exporter": "python",
   "pygments_lexer": "ipython3",
   "version": "3.7.8"
  }
 },
 "nbformat": 4,
 "nbformat_minor": 4
}
