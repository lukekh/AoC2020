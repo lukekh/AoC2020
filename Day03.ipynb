{
 "cells": [
  {
   "cell_type": "markdown",
   "metadata": {},
   "source": [
    "# Advent of Code\n",
    "## Day 3: Toboggan Trajectory\n",
    "### Part One\n",
    "\n",
    "With the toboggan login problems resolved, you set off toward the airport. While travel by toboggan might be easy, it's certainly not safe: there's very minimal steering and the area is covered in trees. You'll need to see which angles will take you near the fewest trees.\n",
    "\n",
    "Due to the local geology, trees in this area only grow on exact integer coordinates in a grid. You make a map (your puzzle input) of the open squares (```.```) and trees (```#```) you can see. For example:\n",
    "\n",
    ">```\n",
    "..##.......\n",
    "#...#...#..\n",
    ".#....#..#.\n",
    "..#.#...#.#\n",
    ".#...##..#.\n",
    "..#.##.....\n",
    ".#.#.#....#\n",
    ".#........#\n",
    "#.##...#...\n",
    "#...##....#\n",
    ".#..#...#.#\n",
    ">```\n",
    "\n",
    "These aren't the only trees, though; due to something you read about once involving arboreal genetics and biome stability, the same pattern repeats to the right many times:\n",
    "\n",
    ">```\n",
    "..##.........##.........##.........##.........##.........##.......  --->\n",
    "#...#...#..#...#...#..#...#...#..#...#...#..#...#...#..#...#...#..\n",
    ".#....#..#..#....#..#..#....#..#..#....#..#..#....#..#..#....#..#.\n",
    "..#.#...#.#..#.#...#.#..#.#...#.#..#.#...#.#..#.#...#.#..#.#...#.#\n",
    ".#...##..#..#...##..#..#...##..#..#...##..#..#...##..#..#...##..#.\n",
    "..#.##.......#.##.......#.##.......#.##.......#.##.......#.##.....  --->\n",
    ".#.#.#....#.#.#.#....#.#.#.#....#.#.#.#....#.#.#.#....#.#.#.#....#\n",
    ".#........#.#........#.#........#.#........#.#........#.#........#\n",
    "#.##...#...#.##...#...#.##...#...#.##...#...#.##...#...#.##...#...\n",
    "#...##....##...##....##...##....##...##....##...##....##...##....#\n",
    ".#..#...#.#.#..#...#.#.#..#...#.#.#..#...#.#.#..#...#.#.#..#...#.#  --->\n",
    ">```\n",
    "\n",
    "You start on the open square (.) in the top-left corner and need to reach the bottom (below the bottom-most row on your map).\n",
    "\n",
    "The toboggan can only follow a few specific slopes (you opted for a cheaper model that prefers rational numbers); start by counting all the trees you would encounter for the slope right 3, down 1:\n",
    "\n",
    "From your starting position at the top-left, check the position that is right 3 and down 1. Then, check the position that is right 3 and down 1 from there, and so on until you go past the bottom of the map.\n",
    "\n",
    "The locations you'd check in the above example are marked here with O where there was an open square and X where there was a tree:\n",
    "\n",
    ">```\n",
    "..##.........##.........##.........##.........##.........##.......  --->\n",
    "#..O#...#..#...#...#..#...#...#..#...#...#..#...#...#..#...#...#..\n",
    ".#....X..#..#....#..#..#....#..#..#....#..#..#....#..#..#....#..#.\n",
    "..#.#...#O#..#.#...#.#..#.#...#.#..#.#...#.#..#.#...#.#..#.#...#.#\n",
    ".#...##..#..X...##..#..#...##..#..#...##..#..#...##..#..#...##..#.\n",
    "..#.##.......#.X#.......#.##.......#.##.......#.##.......#.##.....  --->\n",
    ".#.#.#....#.#.#.#.O..#.#.#.#....#.#.#.#....#.#.#.#....#.#.#.#....#\n",
    ".#........#.#........X.#........#.#........#.#........#.#........#\n",
    "#.##...#...#.##...#...#.X#...#...#.##...#...#.##...#...#.##...#...\n",
    "#...##....##...##....##...#X....##...##....##...##....##...##....#\n",
    ".#..#...#.#.#..#...#.#.#..#...X.#.#..#...#.#.#..#...#.#.#..#...#.#  --->\n",
    ">```\n",
    "\n",
    "In this example, traversing the map using this slope would cause you to encounter 7 trees.\n",
    "\n",
    "Starting at the top-left corner of your map and following a slope of right 3 and down 1, how many trees would you encounter?\n",
    "\n",
    "---"
   ]
  },
  {
   "cell_type": "code",
   "execution_count": 1,
   "metadata": {},
   "outputs": [],
   "source": [
    "# Read in the inputs\n",
    "inputs = [i[:-1] for i in open(\"Day03_input.txt\").readlines()]"
   ]
  },
  {
   "cell_type": "code",
   "execution_count": 2,
   "metadata": {},
   "outputs": [],
   "source": [
    "def tree_toboggan(toboggan_map, starting_position=(0,0), drop=1, right=1):\n",
    "    \"\"\"\n",
    "    This function takes your map and calculates how many trees you will hit given a rise and run.\n",
    "    \n",
    "    Note: if you start on a tree I count it as a collision.\n",
    "    :param toboggan_map: list, the map of the toboggan run where '#' is a tree and '.' is an open space\n",
    "    :param starting_position: tuple, the position on the map where you start in the form of (row, column)\n",
    "    :param drop: int, the number of rows you descend each time step\n",
    "    :param right: the number of positions to the right that you move each time step\n",
    "    \"\"\"\n",
    "    # Initialise counter\n",
    "    trees_hit = 0\n",
    "    starting_row, starting_col = starting_position\n",
    "    \n",
    "    for i, row in enumerate(toboggan_map[starting_row:]):\n",
    "        # Check we're at a rational coordinate...\n",
    "        if i % drop == 0:\n",
    "            trees_hit += row[(right*i//drop - starting_col) % len(row)] == \"#\"\n",
    "        # Otherwise we toboggan on by, baby!\n",
    "        else:\n",
    "            pass\n",
    "    \n",
    "    return trees_hit"
   ]
  },
  {
   "cell_type": "code",
   "execution_count": 3,
   "metadata": {},
   "outputs": [
    {
     "name": "stdout",
     "output_type": "stream",
     "text": [
      "You would hit 278 trees on the way down.\n"
     ]
    }
   ],
   "source": [
    "trees = tree_toboggan(inputs, starting_position=(0,0), drop=1, right=3)\n",
    "\n",
    "print(f\"You would hit {trees} trees on the way down.\")"
   ]
  },
  {
   "cell_type": "markdown",
   "metadata": {},
   "source": [
    "---\n",
    "\n",
    "### Part 2\n",
    "\n",
    "Time to check the rest of the slopes - you need to minimize the probability of a sudden arboreal stop, after all.\n",
    "\n",
    "Determine the number of trees you would encounter if, for each of the following slopes, you start at the top-left corner and traverse the map all the way to the bottom:\n",
    "\n",
    ">Right 1, down 1.\n",
    ">\n",
    ">Right 3, down 1. (This is the slope you already checked.)\n",
    ">\n",
    ">Right 5, down 1.\n",
    ">\n",
    ">Right 7, down 1.\n",
    ">\n",
    ">Right 1, down 2.\n",
    "\n",
    "In the above example, these slopes would find 2, 7, 3, 4, and 2 tree(s) respectively; multiplied together, these produce the answer 336.\n",
    "\n",
    "What do you get if you multiply together the number of trees encountered on each of the listed slopes?\n",
    "\n",
    "---"
   ]
  },
  {
   "cell_type": "code",
   "execution_count": 4,
   "metadata": {},
   "outputs": [],
   "source": [
    "# Put the desired slopes into a list in the form of (drop, right)\n",
    "slopes = [\n",
    "    (1, 1),\n",
    "    (1, 3),\n",
    "    (1, 5),\n",
    "    (1, 7),\n",
    "    (2, 1),\n",
    "]"
   ]
  },
  {
   "cell_type": "code",
   "execution_count": 5,
   "metadata": {},
   "outputs": [
    {
     "name": "stdout",
     "output_type": "stream",
     "text": [
      "The final product after finding these values is 9709761600.\n"
     ]
    }
   ],
   "source": [
    "# initialise product\n",
    "product = 1\n",
    "\n",
    "# Calculate the product of all of the trees that are hit on our descent\n",
    "for slope in slopes:\n",
    "    product *= tree_toboggan(inputs, (0,0), *slope)\n",
    "\n",
    "print(f\"The final product after finding these values is {product}.\")"
   ]
  },
  {
   "cell_type": "markdown",
   "metadata": {},
   "source": [
    "---"
   ]
  }
 ],
 "metadata": {
  "kernelspec": {
   "display_name": "Python 3",
   "language": "python",
   "name": "python3"
  },
  "language_info": {
   "codemirror_mode": {
    "name": "ipython",
    "version": 3
   },
   "file_extension": ".py",
   "mimetype": "text/x-python",
   "name": "python",
   "nbconvert_exporter": "python",
   "pygments_lexer": "ipython3",
   "version": "3.7.8"
  }
 },
 "nbformat": 4,
 "nbformat_minor": 4
}
