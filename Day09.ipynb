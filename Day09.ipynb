{
 "cells": [
  {
   "cell_type": "markdown",
   "metadata": {},
   "source": [
    "# Advent of Code\n",
    "## Day 9: Encoding Error\n",
    "### Part One\n",
    "\n",
    "With your neighbor happily enjoying their video game, you turn your attention to an open data port on the little screen in the seat in front of you.\n",
    "\n",
    "Though the port is non-standard, you manage to connect it to your computer through the clever use of several paperclips. Upon connection, the port outputs a series of numbers (your puzzle input).\n",
    "\n",
    "The data appears to be encrypted with the eXchange-Masking Addition System (XMAS) which, conveniently for you, is an old cypher with an important weakness.\n",
    "\n",
    "XMAS starts by transmitting a preamble of 25 numbers. After that, each number you receive should be the sum of any two of the 25 immediately previous numbers. The two numbers will have different values, and there might be more than one such pair.\n",
    "\n",
    "For example, suppose your preamble consists of the numbers `1` through `25` in a random order. To be valid, the next number must be the sum of two of those numbers:\n",
    "\n",
    "* `26` would be a valid next number, as it could be `1` plus `25` (or many other pairs, like `2` and `24`).\n",
    "* `49` would be a valid next number, as it is the sum of `24` and `25`.\n",
    "* `100` would not be valid; no two of the previous 25 numbers sum to `100`.\n",
    "* `50` would also not be valid; although `25` appears in the previous 25 numbers, the two numbers in the pair must be different.\n",
    "\n",
    "Suppose the 26<sup>th</sup> number is `45`, and the first number (no longer an option, as it is more than 25 numbers ago) was `20`. Now, for the next number to be valid, there needs to be some pair of numbers among `1`-`19`, `21`-`25`, or `45` that add up to it:\n",
    "\n",
    "* `26` would still be a valid next number, as `1` and `25` are still within the previous 25 numbers.\n",
    "* `65` would not be valid, as no two of the available numbers sum to it.\n",
    "* `64` and 66 would both be valid, as they are the result of `19+45` and `21+45` respectively.\n",
    "\n",
    "Here is a larger example which only considers the previous 5 numbers (and has a preamble of length 5):\n",
    "\n",
    ">```\n",
    "35\n",
    "20\n",
    "15\n",
    "25\n",
    "47\n",
    "40\n",
    "62\n",
    "55\n",
    "65\n",
    "95\n",
    "102\n",
    "117\n",
    "150\n",
    "182\n",
    "127\n",
    "219\n",
    "299\n",
    "277\n",
    "309\n",
    "576\n",
    ">```\n",
    "\n",
    "In this example, after the 5-number preamble, almost every number is the sum of two of the previous 5 numbers; the only number that does not follow this rule is `127`.\n",
    "\n",
    "The first step of attacking the weakness in the XMAS data is to find the first number in the list (after the preamble) which is not the sum of two of the 25 numbers before it. What is the first number that does not have this property?\n",
    "\n",
    "---"
   ]
  },
  {
   "cell_type": "code",
   "execution_count": 1,
   "metadata": {},
   "outputs": [],
   "source": [
    "# Read in the inputs and convert them to integers\n",
    "inputs = [int(i[:-1]) for i in open(\"Day09_input.txt\").readlines()]"
   ]
  },
  {
   "cell_type": "code",
   "execution_count": 2,
   "metadata": {},
   "outputs": [],
   "source": [
    "# deques are fast for adding and removing elements from the ends of\n",
    "# your list, so let's use them\n",
    "from collections import deque\n",
    "\n",
    "# This exception class will help us identify the vulnerabilities in XMAS\n",
    "class XMASError(Exception):\n",
    "    pass\n",
    "\n",
    "# This \"Window\" class will be built for purpose and help us keep a window of the last n inputs\n",
    "class Window(deque):\n",
    "    def advance(self, val):\n",
    "        \"\"\"\n",
    "        advance will append a value to the end of the queue and forget the last element in the queue.\n",
    "        \n",
    "        :param val: the value you wish to add to the front of the queue\n",
    "        :return: self\n",
    "        \"\"\"\n",
    "        # Initialise a truth value\n",
    "        p = False\n",
    "        \n",
    "        # This for loop checks if the new number is the sum of two of the previous numbers in the window\n",
    "        for i in self:\n",
    "            p |= (val - i in self)\n",
    "            # If this condition holds for any two numbers, we can stop checking\n",
    "            if p:\n",
    "                break\n",
    "        \n",
    "        # If the new number is the sum of two preceding numbers in the window\n",
    "        if p:\n",
    "            self.append(val)  # Append the new value\n",
    "            self.popleft()    # Remove the oldest value\n",
    "        else:\n",
    "            # Otherwise, raise an XMASError\n",
    "            raise XMASError(f\"The number {val} is not the sum of two of the preceding {len(self)} numbers.\")"
   ]
  },
  {
   "cell_type": "code",
   "execution_count": 3,
   "metadata": {},
   "outputs": [
    {
     "name": "stdout",
     "output_type": "stream",
     "text": [
      "The first number to not have the desired property is 10,884,537.\n"
     ]
    }
   ],
   "source": [
    "# Initialise vars\n",
    "n = 25  # The preamble is the first 25 numbers\n",
    "sliding_window = Window(inputs[:n])  # Put these into the new Window class\n",
    "answer = None  # I want to store the answer, so initialise a global variable\n",
    "\n",
    "# For each number in the inputs after the preamble\n",
    "for number in inputs[25:]:\n",
    "    try:\n",
    "        # Try to advance the window\n",
    "        sliding_window.advance(number)\n",
    "    except XMASError:\n",
    "        # Unless we get an XMASError, in which case print the solution\n",
    "        answer = number\n",
    "        print(f\"The first number to not have the desired property is {number:,}.\")\n",
    "        break"
   ]
  },
  {
   "cell_type": "markdown",
   "metadata": {},
   "source": [
    "---\n",
    "\n",
    "### Part Two\n",
    "\n",
    "The final step in breaking the XMAS encryption relies on the invalid number you just found: you must find a contiguous set of at least two numbers in your list which sum to the invalid number from step 1.\n",
    "\n",
    "Again consider the above example:\n",
    "\n",
    ">```\n",
    "35\n",
    "20\n",
    "15\n",
    "25\n",
    "47\n",
    "40\n",
    "62\n",
    "55\n",
    "65\n",
    "95\n",
    "102\n",
    "117\n",
    "150\n",
    "182\n",
    "127\n",
    "219\n",
    "299\n",
    "277\n",
    "309\n",
    "576\n",
    ">```\n",
    "\n",
    "In this list, adding up all of the numbers from `15` through `40` produces the invalid number from step 1, `127`. (Of course, the contiguous set of numbers in your actual list might be much longer.)\n",
    "\n",
    "To find the encryption weakness, add together the smallest and largest number in this contiguous range; in this example, these are `15` and `47`, producing `62`.\n",
    "\n",
    "What is the encryption weakness in your XMAS-encrypted list of numbers?\n",
    "\n",
    "---"
   ]
  },
  {
   "cell_type": "code",
   "execution_count": 4,
   "metadata": {},
   "outputs": [
    {
     "name": "stdout",
     "output_type": "stream",
     "text": [
      "The answer is 1,261,309.\n"
     ]
    }
   ],
   "source": [
    "# Initialise variable to store answer\n",
    "encryption_weakness = None\n",
    "\n",
    "# For each number in the inputs\n",
    "for i, number in enumerate(inputs):\n",
    "    # And each index after the index i\n",
    "    for j in range(i, len(inputs)):\n",
    "        # Check if the sum between index i and index j totals the answer from part one\n",
    "        if sum(inputs[i:j]) == answer:\n",
    "            # If it does, print the solution and break the loop\n",
    "            encryption_weakness = min(inputs[i:j]) + max(inputs[i:j])\n",
    "            break\n",
    "        elif sum(inputs[i:j]) >= answer:\n",
    "            # If it's bigger than the answer, we can stop adding more positive integers on\n",
    "            break\n",
    "        else:\n",
    "            # Otherwise, keep looking!\n",
    "            pass\n",
    "    \n",
    "    # If we've found an answer, we can break out of the outer for loop\n",
    "    if encryption_weakness is not None:\n",
    "        break\n",
    "\n",
    "print(f\"The answer is {encryption_weakness:,}.\")"
   ]
  },
  {
   "cell_type": "markdown",
   "metadata": {},
   "source": [
    "---"
   ]
  }
 ],
 "metadata": {
  "kernelspec": {
   "display_name": "Python 3",
   "language": "python",
   "name": "python3"
  },
  "language_info": {
   "codemirror_mode": {
    "name": "ipython",
    "version": 3
   },
   "file_extension": ".py",
   "mimetype": "text/x-python",
   "name": "python",
   "nbconvert_exporter": "python",
   "pygments_lexer": "ipython3",
   "version": "3.7.8"
  }
 },
 "nbformat": 4,
 "nbformat_minor": 4
}
